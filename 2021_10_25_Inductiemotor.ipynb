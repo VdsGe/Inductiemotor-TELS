{
  "nbformat": 4,
  "nbformat_minor": 5,
  "metadata": {
    "kernelspec": {
      "display_name": "Python 3",
      "language": "python",
      "name": "python3"
    },
    "language_info": {
      "codemirror_mode": {
        "name": "ipython",
        "version": 3
      },
      "file_extension": ".py",
      "mimetype": "text/x-python",
      "name": "python",
      "nbconvert_exporter": "python",
      "pygments_lexer": "ipython3",
      "version": "3.8.8"
    },
    "toc": {
      "base_numbering": 1,
      "nav_menu": {},
      "number_sections": true,
      "sideBar": true,
      "skip_h1_title": false,
      "title_cell": "Table of Contents",
      "title_sidebar": "Contents",
      "toc_cell": false,
      "toc_position": {},
      "toc_section_display": true,
      "toc_window_display": true
    },
    "varInspector": {
      "cols": {
        "lenName": 16,
        "lenType": 16,
        "lenVar": 40
      },
      "kernels_config": {
        "python": {
          "delete_cmd_postfix": "",
          "delete_cmd_prefix": "del ",
          "library": "var_list.py",
          "varRefreshCmd": "print(var_dic_list())"
        },
        "r": {
          "delete_cmd_postfix": ") ",
          "delete_cmd_prefix": "rm(",
          "library": "var_list.r",
          "varRefreshCmd": "cat(var_dic_list()) "
        }
      },
      "position": {
        "height": "283.375px",
        "left": "1274.58px",
        "right": "20px",
        "top": "126px",
        "width": "581px"
      },
      "types_to_exclude": [
        "module",
        "function",
        "builtin_function_or_method",
        "instance",
        "_Feature"
      ],
      "window_display": false
    },
    "colab": {
      "name": "2021-10-25 Inductiemotor.ipynb",
      "provenance": [],
      "collapsed_sections": [
        "GbONvIJSRu8J",
        "dWcFFnJyxsTx",
        "e6559176"
      ],
      "include_colab_link": true
    }
  },
  "cells": [
    {
      "cell_type": "markdown",
      "metadata": {
        "id": "view-in-github",
        "colab_type": "text"
      },
      "source": [
        "<a href=\"https://colab.research.google.com/github/VdsGe/Inductiemotor-TELS/blob/main/2021_10_25_Inductiemotor.ipynb\" target=\"_parent\"><img src=\"https://colab.research.google.com/assets/colab-badge.svg\" alt=\"Open In Colab\"/></a>"
      ]
    },
    {
      "cell_type": "markdown",
      "metadata": {
        "id": "_ro3Z8bFQfg6"
      },
      "source": [
        "# Variabelen opvragen bij het debuggen\n",
        "De module \"Variable inspector window\" links aangeduid met {x} werkt niet naar behoren. Mogelijk wordt dit nog aangepast de komende weken.\n",
        "\n",
        "Maar er bestaan een aantal \"Magics\" beginnende met % die kunnen helpen. Hieronder een kort overzicht (kan verder aangevuld worden als jullie nog anderen vinden)\\:\n",
        "\n",
        "\n",
        "1.   %who : geeft een lijst van variabelen\n",
        "2.   %whos: geeft bijkomende informatie over de varaibelen en hun inhoud.\n",
        "3.   %who_ls: geeft een lijst met alle variabelen.\n",
        "\n",
        "Nog een paar handige tips.\n",
        "\n",
        "? : zal een extra window openen met uitleg over IPython. Dit geeft enkele extra tips hoe jullie sneller Python code kunnen in geven.\n",
        "\n",
        "help() : start intercative help.\n",
        "\n",
        "help(c2p): geeft informatie over het commando def. Dit geeft de docstring weer aan het begin van een functie.\n",
        "\n",
        "\n",
        "\n"
      ],
      "id": "_ro3Z8bFQfg6"
    },
    {
      "cell_type": "markdown",
      "metadata": {
        "id": "GbONvIJSRu8J"
      },
      "source": [
        "# Toelichting en afspraken\n",
        "Opmerking: Dit document wordt jullie programma en verslag. Het is dus de bedoeling dat jullie dit document aanpassen en niet behouden in de huidige vorm. Meer informatie over Google Colab is te vinden onder: \n",
        "\n",
        "https://colab.research.google.com/notebooks/welcome.ipynb?hl=nl\n",
        "\n",
        "De formatering van de tekst-blokken gebeurt met Markdown format. Meer informatie is te vinden onder: \n",
        "\n",
        "https://colab.research.google.com/notebooks/markdown_guide.ipynb.\n",
        "\n",
        "Documentatie en programma vormen één geheel in Google Colab. Om dit overzichtelijk houden werk je met secties en subsecties. Hiervoor kunnen jullie vertrekken van dit document. Tijdens het project wordt het document aangevuld met extra sessies. Om het overzicht te behouden maken we gebruik van een mindmap waarvan de link beschikbaar is onder \n",
        "\n",
        "**Toledo > Cursusdocumenten > Mindmap - cursus TELS**\n",
        "\n",
        "Tutorial:\n",
        "https://www.youtube.com/watch?v=6Xt6L1I5jSc\n",
        "\n",
        "Hoe een figuur invoegen:\n",
        "https://medium.com/analytics-vidhya/embedding-your-image-in-google-colab-markdown-3998d5ac2684\n",
        "\n"
      ],
      "id": "GbONvIJSRu8J"
    },
    {
      "cell_type": "markdown",
      "metadata": {
        "id": "LGkDHeAxVFja"
      },
      "source": [
        "## 0.1. Opdracht voor project TELS\n",
        "\n",
        "Studenten: Invullen\n",
        "\n",
        "Datum: 1/11/2021\n",
        "\n",
        "Versie: Star-versie\n",
        "\n",
        "Vak: TELS \n",
        "\n",
        "Docenten: Geert Vandensande, Yves Palmers\n",
        "\n",
        "Te analyseren transistors: ... ... ...\n",
        "\n",
        "**Fase 1**: Opdracht\n",
        "1. Bepaal het equivalent-schema op basis van de gegevens uit de catalogus. Extra uitleg volgt in de werkzittingen en in filmpjes op Toledo.\n",
        "2. Programeer het fasor-diagram voor nominale slip en kip-slip. Controleer het geprogrammeerde fasor-diagram met wat u verwacht als fasor-diagram.\n",
        "3. Controleer dit fasordiagram eventueel voor een slip gelegen tussen  $s_{nom}$ en $s_{kip}$.\n",
        "**Fase 2**: Karakteristieken van de motor\n",
        "1. Bepaal numpy-array n_np voor het toerental (zie Python-programma).\n",
        "2. Bereken de fase-stroom met als parameter  nnp .\n",
        "3. Creëer het cirkeldiagram: I_actief/I_nom t.o.v.  Ireactief/Inom  met als parameter n_np. Komen de resultaten overeen met de fasor-diagrammen van fase 2?\n",
        "4. Bereken de spanning E_1 ter hoogte van de luchtspleet met als parameter  nnp . De stroom door  Xm  is een maat voor de flux in de luchtspleet => De spanning  E1  is een maat voor de flux bij één bepaalde frequentie.\n",
        "5. Bereken het luchtspleet-vermogen, het totale Joule-verlies in de rotor en het mechanisch vermogen met als parameter  nnp .\n",
        "Bereken het koppel met als parameter  nnp .\n",
        "6. Zorg voor de volgende figuren waarbij u het toerental laat veranderen tussen n_syn (synchroon-toerental) tot 0 tr/min:\n",
        "\t1. Cirkeldiagram\n",
        "\t2. $E_1$ i.f.v. $n_{np}$ \n",
        "\t3. Stator-stroom i.f.v. $n_{np}$\n",
        "\t4. Koppel i.f.v. $n_{np}$\n",
        "    Eventueel mogen jullie het toerental ook uitbreiden tot het generator gebied waarbij het toerental hoger is dan het synchroon-toerental. Dit vraagt maar een beetje extra werk (Extra uitleg volgt op Toledo).\n",
        "8. Maak een functie voor de M-n karakteristiek zodat men de frequentie en de rotor-weerstand kan gebruiken als parameter.\n",
        "9. Herhaal de figuren voor de M-n karakteristiek voor verschillende frequenties: 10 Hz, 30 Hz, 50 Hz, 70 Hz. Deze resultaten zouden moeten overeenstemmen met wat jullie gemeten hebben met de active-drive.\n",
        "10. Herhaal de figuren voor de M-n karakteristiek voor verschillende rotor-weerstanden: $R_{rotor}$,2*$R_{rotor}$,4*$R_{rotor}$ en $R_{rotor}$=x_lek.\n",
        "\n",
        "\n"
      ],
      "id": "LGkDHeAxVFja"
    },
    {
      "cell_type": "markdown",
      "metadata": {
        "id": "303836a9"
      },
      "source": [
        "## 0.2. Afspraken:\n",
        "\n",
        "### 0.2.1. Algemene afspraken\n",
        "\n",
        "1. Jullie werken met dezelfde indeling zoals aangegeven op de mindmap.\n",
        "2. Om de indeling overzichtelijk te houden wordt voor elke sectie of subsectie gestart met een nieuwe MarkDown-cell.\n",
        "3. Elke code-block wordt vooraf gegaan van welke bewerkingen zullen volgen. Elk code-blok wordt gevolgd door een besluit over de uitgevoerd bewerkingen en het bekomen resultaat.\n",
        "4. Uitleg over de bewerkingen zelf maakt deel uit van de code-cells en gaat vooraf and de code.\n",
        "\n",
        "5. Indien datum:\n",
        "* ** december 24h, via Toledo\n",
        "* Laattijdig indienen is -1/10 per dag\n",
        "* In te dienen: Google Colab programma\n",
        "* Feedback docenten mag je verwachten in de volgende week\n",
        "* Geen nieuwe indiening na opmerkingen noodzakelijk\n",
        "* Test volgt in week 13\n",
        "\n",
        "### 0.2.2. Beoordeling\n",
        "Bij de beoordeling wordt er rekening gehouden met:\n",
        "\n",
        "1. Taal: \n",
        "    1. Persoons neutraal geschreven\n",
        "    2. Kort, bondig, duidelijk, al omvattend\n",
        "\n",
        "2. Opbouw & documentatie (Markdown cells)\n",
        "    1. Goede opmaak, verzorgt (Correcte opdeling\n",
        "    2. Beknopte uitleg (Mark-down cell) over de code (Wat?, Hoe? Waarom?)\n",
        "    3. Extra informatie over de verschillende stappen (Uitleg in de code-cells)\n",
        "    4. Bespreek het resultaat na de code-cells (in Mark-down cell)\n",
        "    5. Formulering besluit (op het einde van het programma)\n",
        "\n",
        "3. Python:\n",
        "\n",
        "    1. Inlezen juiste data\n",
        "    2. Programmeren / Gebruik Correcte formules\n",
        "    3. Kwaliteit van berekende resultaten\n",
        "    4. Plotten van belastingskarakteristieken\n",
        "    5. Plotten van fasor-diagrams\n",
        "    6. Programmeer kwaliteit + Originaliteit\n",
        "    7. Code zoveel mogelijk opdelen in logisch te volgen stappen\n",
        "    8. Uitleg in de code\n",
        "\n"
      ],
      "id": "303836a9"
    },
    {
      "cell_type": "markdown",
      "metadata": {
        "id": "a8ba0a76"
      },
      "source": [
        "## 0.3. Afspraken voor het Python-programma\n",
        "Hier geef ik beknopt een aantal afspraken voor het programma:\n",
        "### 0.3.1. Naam-conventies\n",
        "Om het programma overzichtelijk houden maken we een aantal afspraken die iedereenkan gebruiken:\n",
        "- Kleine letters voor alle variabelen bijvoorbeeld x en niet X\n",
        "- Hoofdletters voor padas-dataframes bijvoorbeeld DF en niet df\n",
        "- Numpy-array wordt achter de naamm gevolgd door _np\n",
        "- Complexe getallen worden gevolgd door _c. Een numpy-array met complexe getallen wordt dan gevolgd door _np_c.\n",
        "- Commentaar in het programma (voorafgedaan door #) komt voor de regel waarop deze betrekking heeft. En dus niet achter de regel of vanachter in de regel.\n",
        "- Zorg ervoor dat alle varabelen uniek zijn om verwarring te voorkomen.\n",
        "\n",
        "### 0.3.2. Gebruik van functies\n",
        "Het programma bevat enkele noodzakelijk functies. Deze functies starten altijd met een korte beschrijving van de taak. Tevens vermeld men de betekenis van elke variabele die gebruikt wordt als input of output van de functie.\n",
        "\n",
        "Binnen de functie worden alle variabelen vooraf gegaan door \"_\" (bijvoorbeeld _koppel). Op die manier is geen gevaar dat Python een variabele gebruikt uit het hoofdprogramma. Zulke problemen zijn anders moeilijk te vinden bij het debuggen van het programma.\n",
        "\n",
        "Wanneer maken we gebruik van functies?\n",
        "- om het programma overzichtelijk te houden,\n",
        "- wanneer een deel van het programma dikwijls terugkomt\n",
        "- MAAR: maak pas een functie als dit deel van de code geen fouten meer bevat zodat het debuggen van de code eenvoudig blijft.\n",
        "\n",
        "### 0.3.3. Gebruik Google-acount van UHasselt\n",
        "Om gemakkelijk te kunnen samenwerken binnen jullie groep kunnen jullie best werken met jullie UHasselt acount. Op die manier kunnen jullie samenwerken aan het zelfde Python-programma en kunnen jullie dit zelfde programma ook delen met de docent."
      ],
      "id": "a8ba0a76"
    },
    {
      "cell_type": "markdown",
      "metadata": {
        "id": "HEHTOHbBjhiB"
      },
      "source": [
        "# 1. Inleiding:\n",
        "Het project start met de inleiding waarin jullie de opdracht omschrijven. Dit is maximaal 40 korte zinnen. De lezer moet op basis van deze inleiding weten wat hij in het project kan verwachten en hoe dit is uitgevoerd.\n",
        "Het project eidigt met een besluit over de resultaten die je bekomen hebt en wat je uit het project hebt geleerd. In dit besluit mogen geen nieuwe aangebracht worden die nog niet hiervoor zijn vermeld.\n",
        "\n",
        "De Python-code wordt ingedeeld in blokken met een bepaalde sub-opdracht. Ook hier starten we met een inleiding en besluit.\n",
        "\n",
        "Het eerste deel van het programma geeft enkele functies die door de docenten zijn voorbereid en die je kan gebruiken in het hoofdprogramma. Hieraan hoeven jullie niets te wijzigen."
      ],
      "id": "HEHTOHbBjhiB"
    },
    {
      "cell_type": "markdown",
      "metadata": {
        "id": "VU1czccMqE88"
      },
      "source": [
        "## 1.1 inlezen van bibliotheken gebruikt in het hoofdprogramma"
      ],
      "id": "VU1czccMqE88"
    },
    {
      "cell_type": "code",
      "metadata": {
        "id": "05ad3588"
      },
      "source": [
        "# Numpy works with vectors and is used as a scientific calculator.\n",
        "import numpy as np\n",
        "\n",
        "# Pandas is useful to read in Excel-files.\n",
        "import pandas as pd\n",
        "\n",
        "# matplotlib.pyplot as plotting tool\n",
        "import matplotlib.pyplot as plt\n",
        "\n",
        "# seaborn is even more user friendly then matplotlib but can not be used for all plots. It is especially useful to work with pandas-frames.\n",
        "import seaborn as sns\n",
        "\n",
        "# Extra functions for directories and files in windows\n",
        "import os\n",
        "import sys"
      ],
      "id": "05ad3588",
      "execution_count": null,
      "outputs": []
    },
    {
      "cell_type": "markdown",
      "metadata": {
        "id": "1c09b0a1"
      },
      "source": [
        "## 1.2. Functies gebruikt voor dit programma\n",
        "- Read-data voor het inlezen van een Excel-file naar een pandas dataframe.\n",
        "- 4 functies om te werken met complexe getallen: d2r, r2d, p2c, c2p"
      ],
      "id": "1c09b0a1"
    },
    {
      "cell_type": "code",
      "metadata": {
        "id": "2bac9100"
      },
      "source": [
        "def d2r(_x1):\n",
        "    \"\"\"\n",
        "    Converts '_x1' from degrees to radians\n",
        "\n",
        "    Parameters\n",
        "    ----------\n",
        "    _x1: angle in degrees\n",
        "\n",
        "    Returns\n",
        "    -------\n",
        "    Result is returned in radians\n",
        "    \"\"\"\n",
        "    return np.deg2rad(_x1)  # Translation from degrees to radians"
      ],
      "id": "2bac9100",
      "execution_count": null,
      "outputs": []
    },
    {
      "cell_type": "code",
      "metadata": {
        "run_control": {
          "marked": false
        },
        "id": "9f6240b0"
      },
      "source": [
        "def r2d(_x2):\n",
        "    \"\"\"\n",
        "    Converts '_x2' from radians to degrees\n",
        "\n",
        "    Parameters\n",
        "    ----------\n",
        "    _x2: angle in degrees\n",
        "\n",
        "    Returns\n",
        "    -------\n",
        "    Result is returned in degrees\n",
        "    \"\"\"\n",
        "    return np.rad2deg(_x2)  # Translation from radians to degrees"
      ],
      "id": "9f6240b0",
      "execution_count": null,
      "outputs": []
    },
    {
      "cell_type": "code",
      "metadata": {
        "id": "ca5ffa93"
      },
      "source": [
        "def p2c(_ampl, _deg):\n",
        "    \"\"\"\n",
        "    From polar notation to rectangular notation:\n",
        "    Creates a complex number based on the amplitude and the angle.\n",
        "    Angle has to be negative if you want to indicate that the result legs behind.\n",
        "\n",
        "    Parameters\n",
        "    ----------\n",
        "    _ampl: amplitude of the complex number in degrees\n",
        "    _deg: angle of the complex number in degrees\n",
        "\n",
        "    Returns\n",
        "    -------\n",
        "    _complex complex number returned as (x,y) in rectangular notation\n",
        "    \"\"\"\n",
        "    _complex = _ampl * np.exp(1j * d2r(_deg))\n",
        "    return _complex"
      ],
      "id": "ca5ffa93",
      "execution_count": null,
      "outputs": []
    },
    {
      "cell_type": "code",
      "metadata": {
        "id": "30bc1df7"
      },
      "source": [
        "def c2p(_x3):\n",
        "    \"\"\"\n",
        "    From rectangular notation to polar notation:\n",
        "    Converts a complex number based on x-coordinate and y-coordinate to polar-notation.\n",
        "    This function is useful to debug your program.\n",
        "\n",
        "    Parameters\n",
        "    ----------\n",
        "    _x3: complex number\n",
        "\n",
        "    Returns\n",
        "    -------\n",
        "    _ampl: amplitude of the complex number in degrees\n",
        "    _angle-deg: angle of the complex number in degrees\n",
        "    \"\"\"\n",
        "    _ampl = np.abs(_x3)\n",
        "    _angle_deg = r2d(np.angle(_x3))\n",
        "\n",
        "    return _ampl, _angle_deg"
      ],
      "id": "30bc1df7",
      "execution_count": null,
      "outputs": []
    },
    {
      "cell_type": "markdown",
      "metadata": {
        "id": "1a65da2b"
      },
      "source": [
        "## 1.3. Jullie eigen functies.\n",
        "Eerst zal men alle bewerkingen uitvoeren als deel van het hoofdprogramma. Pas nadat alles volledig gedebugd is maakt men van deze code een functie.\n",
        "De functie start steeds met een beschrijving van de functie en de benodigde parameters en dit zowel voor de input-parameters en de output-parameters."
      ],
      "id": "1a65da2b"
    },
    {
      "cell_type": "code",
      "metadata": {
        "id": "tiefa7WkriX0",
        "colab": {
          "base_uri": "https://localhost:8080/",
          "height": 70
        },
        "outputId": "efb83eb4-5cc6-4d1d-dff7-feb9f08ed1c3"
      },
      "source": [
        "\"\"\"\n",
        "def naam_van_de_functie(input_parameters):\n",
        "    \n",
        "    Beschrijving: \n",
        "    \n",
        "    Input-parameters\n",
        "    ----------\n",
        "    ...\n",
        "\n",
        "    Output-parameters\n",
        "    -------\n",
        "    ...\n",
        "    \n",
        "    # Code van de functie\n",
        "\n",
        "    return output parameters\n",
        "\"\"\""
      ],
      "id": "tiefa7WkriX0",
      "execution_count": null,
      "outputs": [
        {
          "output_type": "execute_result",
          "data": {
            "application/vnd.google.colaboratory.intrinsic+json": {
              "type": "string"
            },
            "text/plain": [
              "'\\ndef naam_van_de_functie(input_parameters):\\n    \\n    Beschrijving: \\n    \\n    Input-parameters\\n    ----------\\n    ...\\n\\n    Output-parameters\\n    -------\\n    ...\\n    \\n    # Code van de functie\\n\\n    return output parameters\\n'"
            ]
          },
          "metadata": {},
          "execution_count": 7
        }
      ]
    },
    {
      "cell_type": "code",
      "metadata": {
        "id": "c1632b36"
      },
      "source": [
        "def calculate_torque(_fr, _rs, _r2, _xlek, _rm, _xm):\n",
        "    \"\"\"\n",
        "    Beschrijving: \n",
        "    \n",
        "    Input-parameters\n",
        "    ----------\n",
        "    _fr = frequency for the M-n characteristic\n",
        "    _rs = stator resistance\n",
        "    _r2 = rotor resistor\n",
        "    _xlek = impedance of the leakage inductance\n",
        "    _rm = resistor represents all the losses without the Joule-losses\n",
        "    _xm = impedance of the flux inductance\n",
        "    N = Global variable\n",
        "\n",
        "    Output-parameters\n",
        "    -------\n",
        "    _n_np = numpy-array with trpm\n",
        "    _Tmech_np = numpy-array with torque\n",
        "    _ifabs_np = numpy-array with fase current at the input of the motor\n",
        "    _e1abs_np = numpy-array with voltage at the air-gap\n",
        "    _ifQ_np = numpy-array with the reactive current at the input of the motor\n",
        "    _ifP_np = numpy-array with the active current at the input of the motor\n",
        "    \"\"\"\n",
        "    # Basic array for rotation-speed\n",
        "    _ns = _fr * 60 / pp\n",
        "    # De grenzen van de array moeten niet niet gaan van o of n_sync. Ze mogen aangepast worden over een ruimer gebied.\n",
        "    _n_np = np.linspace(_ns - (_r2/_xlek) * _ns, _ns - 0.1, N, endpoint=True)\n",
        "    _s_np = (_ns - _n_np) / _ns\n",
        "    # Influence of frequency on components of equivalent schematic\n",
        "    _xlek = _xlek * _fr / 50\n",
        "    _xm = _xm * _fr / 50\n",
        "    _rm = _rm * _fr / 50\n",
        "    # Determine Equivalent impedance: Equivalent schematic\n",
        "    _zrot_np_c = _r2 / _s_np + 1j * _xlek\n",
        "    _y_np_c = (1 / _zrot_np_c) + (1 / _rm) + (1 / (1j * _xm))\n",
        "    _ztot_np_c = (1 / _y_np_c) + _rs\n",
        "    # Supply-voltage for U/f-control\n",
        "    if _fr > 50:\n",
        "        _uf_nom = 400 / 3 ** 0.5\n",
        "    else:\n",
        "        _uf_nom = (400 / 3 ** 0.5) * _fr / 50 \n",
        "    # Stromen in de motor\n",
        "    _if_np = _uf_nom / _ztot_np_c\n",
        "    _ifabs_np = abs(_if_np)\n",
        "    _ifP_np = _if_np.real\n",
        "    _ifQ_np = - _if_np.imag\n",
        "    # Determine voltage in the rotor\n",
        "    _e1_np = _uf_nom - _rs * _if_np\n",
        "    _e1abs_np = abs(_e1_np)\n",
        "    # Determine current and voltage at e1\n",
        "    _i1_np_c = (_e1_np / _zrot_np_c)\n",
        "    _i1abs_np = abs(_i1_np_c)\n",
        "    # Determine mechanical torque at the output\n",
        "    _Slu_np_c = 3 * _e1_np * np.conj(_i1_np_c)\n",
        "    _Plu_np = _Slu_np_c.real\n",
        "    _Qlu_np = _Slu_np_c.imag\n",
        "    _Pjr_np = _s_np * _Plu_np\n",
        "    _Pmech_np = (1 - _s_np) * _Plu_np\n",
        "    _Tmech_np = _Pmech_np / _n_np * 9.55\n",
        "\n",
        "    return _n_np, _Tmech_np, _ifabs_np, _e1abs_np, _ifQ_np, _ifP_np"
      ],
      "id": "c1632b36",
      "execution_count": null,
      "outputs": []
    },
    {
      "cell_type": "markdown",
      "metadata": {
        "id": "a929770f"
      },
      "source": [
        "# 2. Verwerken van catalogusgegevens (Fase 1)\n",
        "\n",
        "\n",
        "\n",
        "\n"
      ],
      "id": "a929770f"
    },
    {
      "cell_type": "markdown",
      "metadata": {
        "id": "t9scfUnCi0hT"
      },
      "source": [
        "## 2.1. Inleiding:\n",
        "In deze eerste fase van het project gaan we op basis van de catalogus-gegevens een equivalent schema opstellen. Later, in fase 2, zullen we het equivalent schema van de motor gebruiken om een aantal karakteristieken te bestuderen:\n",
        "\n",
        "- Stap 1: Lees de gegevens van de catalogus voor de transistors die de docent heeft gegeven.\n",
        "- Stap 2: Bereken slip en rendement\n",
        "- Stap 3: Bereken de stator-weerstand rs\n",
        "- Stap 4: Bereken de rotor-weerstand r2\n",
        "- Stap 5: Bereken rm en xm\n",
        "- Stap 6: Schat de waarde voor lek-inductantie x\n",
        "- Controleer de bekomen waarden met deze van de docent."
      ],
      "id": "t9scfUnCi0hT"
    },
    {
      "cell_type": "markdown",
      "metadata": {
        "id": "a5f933cb"
      },
      "source": [
        "### 2.1.1. Inlezen van transistor gegevens\n",
        "Inlezen van de nodige gegevens uit de catalogus van SEW.\n",
        "De catalogus is voor jullie omgezet naar een Excel-file.\n",
        "Jullie vertrekken van dit document en lezen hieruit die transistors die jullie gekregen hebben als opdracht.\n",
        "\n",
        "10/11/2021: De Excel-file kunnen jullie best plaatsen op een gedeelde drive die voor iedereen beschikbaar is. Op die manier kunnen jullie best altijd de zelfde locatie gebruiken. De zelfde locate kunnen jullie dan ook gebruiken voor alle figuren."
      ],
      "id": "a5f933cb"
    },
    {
      "cell_type": "code",
      "metadata": {
        "colab": {
          "base_uri": "https://localhost:8080/"
        },
        "id": "uFaE-PmMkVnn",
        "outputId": "7fa61858-8cac-465d-a8cb-601cb0e747b7"
      },
      "source": [
        "date = '2nov2021'\n",
        "# Koppelen van Google-drive met dit Python-programma\n",
        "from google.colab import drive\n",
        "drive.mount('/content/drive')\n",
        "from IPython.display import Image"
      ],
      "id": "uFaE-PmMkVnn",
      "execution_count": null,
      "outputs": [
        {
          "output_type": "stream",
          "name": "stdout",
          "text": [
            "Drive already mounted at /content/drive; to attempt to forcibly remount, call drive.mount(\"/content/drive\", force_remount=True).\n"
          ]
        }
      ]
    },
    {
      "cell_type": "markdown",
      "metadata": {
        "id": "Zj1d7p1gvK1I"
      },
      "source": [
        "De Excel-file moeten jullie zelf opladen van jullie Google-Drive naar folder naar een Google platform '/content'.\n",
        "In de volgende code lijn verhuizen we de inhoude van het Excel-document naar een dataframe 'DF'."
      ],
      "id": "Zj1d7p1gvK1I"
    },
    {
      "cell_type": "code",
      "metadata": {
        "id": "ipRdR8oNlprx"
      },
      "source": [
        "DF = pd.read_excel('/content/drive/Shareddrives/Elektrotechniek/4061 2ba-S2 ELMA/Originelen/4-Inductiemotor/Google Colab/2021-10-24 Gegevens catalogus SEW.xlsx', 'sheet1', header=0, index_col=0, usecols=None)"
      ],
      "id": "ipRdR8oNlprx",
      "execution_count": null,
      "outputs": []
    },
    {
      "cell_type": "markdown",
      "metadata": {
        "id": "eDBAUNPIv1d6"
      },
      "source": [
        "Ter controle kan men nu het dataframe 'DF' weergeven. Deze regel mag verdwijnen in het finaal programma en is enkel nodig om te debuggen van jullie code."
      ],
      "id": "eDBAUNPIv1d6"
    },
    {
      "cell_type": "markdown",
      "metadata": {
        "id": "nTPqcs6SxC3I"
      },
      "source": [
        "### 2.1.2. Selecteren van transistor\n",
        "Beschrijving: ***Zelf aanvullen***."
      ],
      "id": "nTPqcs6SxC3I"
    },
    {
      "cell_type": "code",
      "metadata": {
        "id": "9b86e289"
      },
      "source": [
        "# Uit het dataframe selecteren we één motor\n",
        "motor = DF.loc['DRE225S4']\n",
        "p_mech = motor['Pmech']\n",
        "m_nom = motor['Mnom']\n",
        "rend100 = motor['rend 100%']\n",
        "rend75 = motor['rend 75%']\n",
        "rend50 = motor['rend 50%']\n",
        "n_nom = motor['n_nom']\n",
        "i_nom = motor['Inom']\n",
        "cos_phi = motor['cos(phi)']\n",
        "Mk_Mn = motor['Mk/Mn']"
      ],
      "id": "9b86e289",
      "execution_count": null,
      "outputs": []
    },
    {
      "cell_type": "code",
      "metadata": {
        "id": "8a3fee64",
        "colab": {
          "base_uri": "https://localhost:8080/"
        },
        "outputId": "89573c34-713d-4ec9-c7c5-e3a4dc10a3a1"
      },
      "source": [
        "# Controle\n",
        "# Weergeven van de geselecteerde motor.\n",
        "motor"
      ],
      "id": "8a3fee64",
      "execution_count": null,
      "outputs": [
        {
          "output_type": "execute_result",
          "data": {
            "text/plain": [
              "Pmech          37\n",
              "Mnom          240\n",
              "n_nom        1477\n",
              "Inom           70\n",
              "cos(phi)     0.82\n",
              "IE            IE2\n",
              "rend 50%       93\n",
              "rend 75%     93.4\n",
              "rend 100%      93\n",
              "Ia/In           7\n",
              "Ma/Mn         2.5\n",
              "Mk/Mn           3\n",
              "Name: DRE225S4, dtype: object"
            ]
          },
          "metadata": {},
          "execution_count": 12
        }
      ]
    },
    {
      "cell_type": "code",
      "metadata": {
        "colab": {
          "base_uri": "https://localhost:8080/"
        },
        "id": "YO-kt3V6D5i3",
        "outputId": "809f2fd4-c406-40d4-ec00-dcd50ba7bb6a"
      },
      "source": [
        "p_mech\n"
      ],
      "id": "YO-kt3V6D5i3",
      "execution_count": null,
      "outputs": [
        {
          "output_type": "execute_result",
          "data": {
            "text/plain": [
              "37.0"
            ]
          },
          "metadata": {},
          "execution_count": 13
        }
      ]
    },
    {
      "cell_type": "markdown",
      "metadata": {
        "id": "404a7d91"
      },
      "source": [
        "# 2. Bepalen van equivalent schema (Fase 1)\n",
        "\n",
        "<img src='https://drive.google.com/uc?id=1yHuPPVI75Fz-UPGUyAxiTMaGtynYsYnC' width=200>\n",
        "\n",
        "![Equivalent_schema.jpg](https://drive.google.com/uc?id=1yHuPPVI75Fz-UPGUyAxiTMaGtynYsYnC)\n",
        "\n",
        "\n",
        "Beschrijving: **Zelf aanvullen**."
      ],
      "id": "404a7d91"
    },
    {
      "cell_type": "code",
      "metadata": {
        "colab": {
          "base_uri": "https://localhost:8080/",
          "height": 34
        },
        "id": "Rp67xQBCOGIR",
        "outputId": "85d53194-8e23-4f84-9262-ba5619627230"
      },
      "source": [
        "Image('/content/Equivalent_schema.jpg', width=300)"
      ],
      "id": "Rp67xQBCOGIR",
      "execution_count": null,
      "outputs": [
        {
          "output_type": "execute_result",
          "data": {
            "image/png": "/content/Equivalent_schema.jpg",
            "text/plain": [
              "<IPython.core.display.Image object>"
            ]
          },
          "metadata": {
            "image/png": {
              "width": 300
            }
          },
          "execution_count": 14
        }
      ]
    },
    {
      "cell_type": "markdown",
      "metadata": {
        "id": "agOIRfnbT9La"
      },
      "source": [
        "![Equivalent_schema.jpg](https://drive.google.com/uc?id=1yHuPPVI75Fz-UPGUyAxiTMaGtynYsYnC)"
      ],
      "id": "agOIRfnbT9La"
    },
    {
      "cell_type": "markdown",
      "metadata": {
        "id": "dWcFFnJyxsTx"
      },
      "source": [
        "## 2.1. Bereken slip en rendement\n",
        "Berekening van rendement, slip, koppel, ... op basis van de nominale waarden. Deze berekeningen hebben tot doel om de gegeven waarden te controleren op hun nauwkeurigheid."
      ],
      "id": "dWcFFnJyxsTx"
    },
    {
      "cell_type": "code",
      "metadata": {
        "id": "1f9f1559",
        "colab": {
          "base_uri": "https://localhost:8080/"
        },
        "outputId": "522abbc9-d243-4b2b-b49d-068ca754aca9"
      },
      "source": [
        "# Zoek het aantal pool-paren\n",
        "if n_nom > 1500:\n",
        "    pp = 1\n",
        "elif n_nom > 1000:\n",
        "    pp = 2\n",
        "else:\n",
        "    pp = 3\n",
        "# Synchroon toerental\n",
        "n_sync = 3000 / pp\n",
        "# Slip van de motor op basis van de catalogus gegevens.\n",
        "slip = (n_sync - n_nom)/n_sync\n",
        "# Controle van het rendement op basis van de catalogus-gegevens.\n",
        "pel = 3**0.5 * 400 * i_nom * cos_phi\n",
        "pmech = m_nom * n_nom / 9.55\n",
        "rend = pmech / pel\n",
        "print(\"Berekend rendement = \", round(rend*100, 3), \"%\")\n",
        "print(\"Rendement op basis van de catalogus\", rend100, \"%\")"
      ],
      "id": "1f9f1559",
      "execution_count": null,
      "outputs": [
        {
          "output_type": "stream",
          "name": "stdout",
          "text": [
            "Berekend rendement =  93.337 %\n",
            "Rendement op basis van de catalogus 93.0 %\n"
          ]
        }
      ]
    },
    {
      "cell_type": "markdown",
      "metadata": {
        "id": "-EZ9sX_zZZsz"
      },
      "source": [
        "Wat kunnen jullie besluiten uit deze berekeningen? Met welke waarden rekenen jullie verder? Bijvoorbeeld met koppel en toerental en niet met mechanisch vermogen, ... . **Zelf aanvullen**."
      ],
      "id": "-EZ9sX_zZZsz"
    },
    {
      "cell_type": "code",
      "metadata": {
        "colab": {
          "base_uri": "https://localhost:8080/"
        },
        "id": "ji_kjkm1_PuD",
        "outputId": "b30a57a2-94b0-4f8a-e38b-d3d50f4b63e1"
      },
      "source": [
        "from google.colab import drive\n",
        "drive.mount('/content/drive')"
      ],
      "id": "ji_kjkm1_PuD",
      "execution_count": null,
      "outputs": [
        {
          "output_type": "stream",
          "name": "stdout",
          "text": [
            "Drive already mounted at /content/drive; to attempt to forcibly remount, call drive.mount(\"/content/drive\", force_remount=True).\n"
          ]
        }
      ]
    },
    {
      "cell_type": "markdown",
      "metadata": {
        "id": "022407a7"
      },
      "source": [
        "## 2.2 Bereken de statorweerstand \"rs\"\n",
        "\n",
        "De weerstand wordt bepaald in verschillende stappen. Beschrijf het verloop van de verschillende stappen. **zelf aanvullen**."
      ],
      "id": "022407a7"
    },
    {
      "cell_type": "markdown",
      "metadata": {
        "id": "ngvn2s9Uc7Xe"
      },
      "source": [
        "### 2.2.1 Eerste stap. \n",
        "Beschrijving: **Zelf aanvullen**."
      ],
      "id": "ngvn2s9Uc7Xe"
    },
    {
      "cell_type": "code",
      "metadata": {
        "id": "af609824",
        "colab": {
          "base_uri": "https://localhost:8080/"
        },
        "outputId": "fa0bd832-836a-42cf-9bc3-80d700a47829"
      },
      "source": [
        "# Numpy-array voor rendement\n",
        "rend_np = np.zeros(3, dtype=float)\n",
        "rend_np[0] = rend50 / 100\n",
        "rend_np[1] = rend75 / 100\n",
        "rend_np[2] = rend100 / 100\n",
        "# Lege numpy-arrays voor slip, n, pmech, belasting\n",
        "slip_np = np.zeros(3, dtype=float)\n",
        "n_np = np.zeros(3, dtype=float)\n",
        "pmech_np = np.zeros(3, dtype=float)\n",
        "bel_np = np.array([0.5, 0.75, 1])\n",
        "# Berekening van slip, n en pmech voor verschillende belastingen.\n",
        "# Hiervoor wordt er van uit gegaan dat de slip lineair varieert met de belasting.\n",
        "# Dit is een goede benadering voor lage belastingen.\n",
        "n_rel_nom = n_sync - n_nom\n",
        "for x in range(3):\n",
        "    slip_np[x] = n_rel_nom * bel_np[x] / n_sync\n",
        "    n_np[x] = (1 - slip_np[x]) * n_sync\n",
        "    pmech_np[x] = pmech * bel_np[x]\n",
        "# Een eerste opsplitsing van de vermogens\n",
        "plu_np = pmech_np / (1 - slip_np)\n",
        "pjr_np = plu_np * slip_np\n",
        "pel_np = pmech_np / rend_np\n",
        "pjs_pfe_np = pel_np - plu_np\n",
        "print(\"Verlies voor de motor\", pel_np - pmech_np)\n",
        "print(\"Joule-verlies in de rotor\", pjr_np)\n",
        "print(\"Stator verliezen\", pjs_pfe_np)"
      ],
      "id": "af609824",
      "execution_count": null,
      "outputs": [
        {
          "output_type": "stream",
          "name": "stdout",
          "text": [
            "Verlies voor de motor [1396.9261949  1967.19172169 2793.8523898 ]\n",
            "Joule-verlies in de rotor [143.38620523 323.87005538 578.0104712 ]\n",
            "Stator verliezen [1253.53998966 1643.32166632 2215.84191859]\n"
          ]
        }
      ]
    },
    {
      "cell_type": "code",
      "metadata": {
        "id": "e7d6641a",
        "colab": {
          "base_uri": "https://localhost:8080/"
        },
        "outputId": "056f3878-c429-4090-9dbf-87f7ceec547a"
      },
      "source": [
        "pmech_np"
      ],
      "id": "e7d6641a",
      "execution_count": null,
      "outputs": [
        {
          "output_type": "execute_result",
          "data": {
            "text/plain": [
              "array([18559.16230366, 27838.7434555 , 37118.32460733])"
            ]
          },
          "metadata": {},
          "execution_count": 18
        }
      ]
    },
    {
      "cell_type": "markdown",
      "metadata": {
        "id": "f3bee0c1"
      },
      "source": [
        "Plot de verliezen om een idee te krijgen van het verloop"
      ],
      "id": "f3bee0c1"
    },
    {
      "cell_type": "code",
      "metadata": {
        "id": "b183ba00",
        "colab": {
          "base_uri": "https://localhost:8080/",
          "height": 282
        },
        "outputId": "cd55ca26-4b42-42df-bb0b-2cacf2f2ae0b"
      },
      "source": [
        "sns.scatterplot(x=slip_np, y=pjs_pfe_np)"
      ],
      "id": "b183ba00",
      "execution_count": null,
      "outputs": [
        {
          "output_type": "execute_result",
          "data": {
            "text/plain": [
              "<matplotlib.axes._subplots.AxesSubplot at 0x7f660b845ed0>"
            ]
          },
          "metadata": {},
          "execution_count": 19
        },
        {
          "output_type": "display_data",
          "data": {
            "image/png": "[encoded data removed]",
            "text/plain": [
              "<Figure size 432x288 with 1 Axes>"
            ]
          },
          "metadata": {
            "needs_background": "light"
          }
        }
      ]
    },
    {
      "cell_type": "markdown",
      "metadata": {
        "id": "e6559176"
      },
      "source": [
        "### 2.2.x Bepaal de stator-weerstand met behulp van lineare regressie.\n",
        "Beschrijving: **zelf aanvullen**."
      ],
      "id": "e6559176"
    },
    {
      "cell_type": "code",
      "metadata": {
        "id": "0f61c17c",
        "colab": {
          "base_uri": "https://localhost:8080/"
        },
        "outputId": "575e97f8-2d12-45a9-ed64-5aa35687cd9b"
      },
      "source": [
        "# De ijzerverliezen worden constant verondersteld. De spanning ter hoogte van de luchtspleet zal nauwelijks veranderen.\n",
        "# => pfe = constant.\n",
        "lg = np.polyfit(slip_np, pjs_pfe_np, deg=1)\n",
        "# lg contains the slope and the intercept. This are the 2 parameters of a line\n",
        "slope_lg = lg[0]\n",
        "pfe_lg = lg[1]\n",
        "print(\"slope_lg = \", slope_lg)\n",
        "print(\"pfe_lg = \", pfe_lg)"
      ],
      "id": "0f61c17c",
      "execution_count": null,
      "outputs": [
        {
          "output_type": "stream",
          "name": "stdout",
          "text": [
            "slope_lg =  125517.64290394197\n",
            "pfe_lg =  260.78163146436043\n"
          ]
        }
      ]
    },
    {
      "cell_type": "code",
      "metadata": {
        "id": "4f6d82b3",
        "colab": {
          "base_uri": "https://localhost:8080/"
        },
        "outputId": "b2c93715-75c7-458b-d229-616e2fd1c29b"
      },
      "source": [
        "pjs = pjs_pfe_np[2] - pfe_lg\n",
        "rs = (pjs / 3) / (i_nom)**2\n",
        "print(\"Stator-weerstand = \", rs)\n",
        "print(\"Joule-verlies stator = \", pjs)"
      ],
      "id": "4f6d82b3",
      "execution_count": null,
      "outputs": [
        {
          "output_type": "stream",
          "name": "stdout",
          "text": [
            "Stator-weerstand =  0.1329972984442496\n",
            "Joule-verlies stator =  1955.060287130469\n"
          ]
        }
      ]
    },
    {
      "cell_type": "markdown",
      "metadata": {
        "id": "13-LEt1Kci63"
      },
      "source": [
        "Bespreek de gebruikte methode. Wat verwachten jullie als resultaat? Hebben jullie een idee om de methode te verbeteren?\n",
        "\n",
        "**Zelf aanvullen**."
      ],
      "id": "13-LEt1Kci63"
    },
    {
      "cell_type": "markdown",
      "metadata": {
        "id": "0_mmeAgQd6F0"
      },
      "source": [
        "## 2.3. Bereken de rotorweerstand \"r2\"\n",
        "\n",
        "Beschrijf de gebruikte methode: **Zelf aanvullen**.\n",
        "\n"
      ],
      "id": "0_mmeAgQd6F0"
    },
    {
      "cell_type": "code",
      "metadata": {
        "id": "kwuZQwXZeFWj",
        "colab": {
          "base_uri": "https://localhost:8080/"
        },
        "outputId": "16c57d85-e83c-4789-82d1-a1cbdb89a0b9"
      },
      "source": [
        "# Supply-voltage\n",
        "ul_nom = 400\n",
        "uf_nom = ul_nom / 3**0.5\n",
        "# Write current as complex current\n",
        "phi_deg = r2d(np.arccos(cos_phi))\n",
        "if_nom_c = p2c(i_nom, - phi_deg)\n",
        "# Calculate the voltage at the air-gap\n",
        "u_rs_c = rs * if_nom_c\n",
        "e1_nom_c = uf_nom - u_rs_c\n",
        "# bereken de rotor-weerstand\n",
        "r2_nom = (abs(e1_nom_c)*slip_np[2])**2 / (pjr_np[2]/3)\n",
        "print(\"rotor weerstand\", round(r2_nom, 2))"
      ],
      "id": "kwuZQwXZeFWj",
      "execution_count": null,
      "outputs": [
        {
          "output_type": "stream",
          "name": "stdout",
          "text": [
            "rotor weerstand 0.06\n"
          ]
        }
      ]
    },
    {
      "cell_type": "code",
      "metadata": {
        "id": "7f_uD8NRH7UK",
        "colab": {
          "base_uri": "https://localhost:8080/"
        },
        "outputId": "8309483c-8ee0-42de-ab20-19129e47a387"
      },
      "source": [
        "abs(e1_nom_c)*slip_np[2]"
      ],
      "id": "7f_uD8NRH7UK",
      "execution_count": null,
      "outputs": [
        {
          "output_type": "execute_result",
          "data": {
            "text/plain": [
              "3.425000992963615"
            ]
          },
          "metadata": {},
          "execution_count": 23
        }
      ]
    },
    {
      "cell_type": "markdown",
      "metadata": {
        "id": "fQQQI-rJH0UQ"
      },
      "source": [
        "Besluit: Wat denken jullie van het resultaat."
      ],
      "id": "fQQQI-rJH0UQ"
    },
    {
      "cell_type": "markdown",
      "metadata": {
        "id": "2ae88bce"
      },
      "source": [
        "## 2.4. Bepaal x m.b.v. kipkoppel\n",
        "Beschrijf de gebruikte methode. **Zelf aanvullen**."
      ],
      "id": "2ae88bce"
    },
    {
      "cell_type": "code",
      "metadata": {
        "id": "d5546d70",
        "colab": {
          "base_uri": "https://localhost:8080/"
        },
        "outputId": "69098aaf-cb5b-4f17-af95-87efcf868847"
      },
      "source": [
        "# Calculate slip at kip based on the formula of Kloss\n",
        "Mkip = Mk_Mn * m_nom\n",
        "skip = (((Mkip**2 - m_nom**2)**0.5 + Mkip) * slip) / m_nom\n",
        "\n",
        "# x_leakage when neglecting stator-resistance\n",
        "x_th = r2_nom / skip\n",
        "\n",
        "# Voltage drop at nominal load\n",
        "delta_nom = uf_nom - abs(e1_nom_c)\n",
        "\n",
        "# Voltage drop at maximum load\n",
        "delta_kip = delta_nom * Mkip / m_nom\n",
        "\n",
        "# Voltage at air-gap\n",
        "e1_kip = uf_nom - delta_kip\n",
        "# Corrected value for x\n",
        "x_corr = (e1_kip / uf_nom)**2 * x_th\n",
        "\n",
        "print(\"x zonder correctie = \", round(abs(x_th), 3), \" Ohm\")\n",
        "print(\"x met correctie = \", round(abs(x_corr), 3), \" Ohm\")\n",
        "print(\"r2_nom = \", round(abs(r2_nom), 3), \" Ohm\")"
      ],
      "id": "d5546d70",
      "execution_count": null,
      "outputs": [
        {
          "output_type": "stream",
          "name": "stdout",
          "text": [
            "x zonder correctie =  0.681  Ohm\n",
            "x met correctie =  0.554  Ohm\n",
            "r2_nom =  0.061  Ohm\n"
          ]
        }
      ]
    },
    {
      "cell_type": "code",
      "metadata": {
        "id": "85ff41ea",
        "colab": {
          "base_uri": "https://localhost:8080/"
        },
        "outputId": "1523c6b8-bad8-4d6d-80cb-16cc911ce70b"
      },
      "source": [
        "delta_nom"
      ],
      "id": "85ff41ea",
      "execution_count": null,
      "outputs": [
        {
          "output_type": "execute_result",
          "data": {
            "text/plain": [
              "7.5704776999623675"
            ]
          },
          "metadata": {},
          "execution_count": 25
        }
      ]
    },
    {
      "cell_type": "markdown",
      "metadata": {
        "id": "ubQurUC7ffHg"
      },
      "source": [
        "Bespreek het resultaat. Wat verwachten jullie als resultaat? Hebben jullie een idee om de methode te verbeteren?\n",
        "\n",
        "Zelf aanvullen."
      ],
      "id": "ubQurUC7ffHg"
    },
    {
      "cell_type": "markdown",
      "metadata": {
        "id": "9c45bf2f"
      },
      "source": [
        "## 2.5. Bepaal voor de tweede maal de componenten \"rm\" en \"\"xm\".\n",
        "Bepaal xm en rm nu dat alle andere componenten bepaald zijn.\n",
        "Beschrijf de gebruikte methode. **Zelf aanvullen**."
      ],
      "id": "9c45bf2f"
    },
    {
      "cell_type": "code",
      "metadata": {
        "id": "55cd4187",
        "colab": {
          "base_uri": "https://localhost:8080/"
        },
        "outputId": "f433eb74-85aa-4e91-c8f0-852ea3fe74d4"
      },
      "source": [
        "z_rot_c = r2_nom / slip + x_corr * 1j\n",
        "i1_nom_c = e1_nom_c / z_rot_c  # rotor_current\n",
        "im_c = if_nom_c - i1_nom_c\n",
        "ym_c = im_c / e1_nom_c  # admitantie\n",
        "rm_kp = 1 / ym_c.real\n",
        "xm_kp = - 1 / ym_c.imag\n",
        "print(\"Rm na x = \", round(rm_kp, 1), \" Ohm\")\n",
        "print(\"Xm na x = \", round(xm_kp, 1), \" Ohm\")"
      ],
      "id": "55cd4187",
      "execution_count": null,
      "outputs": [
        {
          "output_type": "stream",
          "name": "stdout",
          "text": [
            "Rm na x =  179.1  Ohm\n",
            "Xm na x =  6.6  Ohm\n"
          ]
        }
      ]
    },
    {
      "cell_type": "markdown",
      "metadata": {
        "id": "de788df9"
      },
      "source": [
        "## 2.6. Plot fasor-diagram for voltage and current\n",
        "Het fasor-diagram gebruiken we hier als extra visuele controle van de berekeningen. Controleer het resultaat met wat we gezien hebben in de cursus.\n",
        "\n",
        "Beschrijf de gebruikte methode. Zelf aanvullen."
      ],
      "id": "de788df9"
    },
    {
      "cell_type": "code",
      "metadata": {
        "id": "306826e5",
        "colab": {
          "base_uri": "https://localhost:8080/",
          "height": 221
        },
        "outputId": "a014f22a-a2a3-4423-8432-3592649ff468"
      },
      "source": [
        "plt.figure(12)\n",
        "plt.title('Fasor-diagram for nominal condition')\n",
        "# Define different fasors.\n",
        "plt.quiver(0, 0, uf_nom, 0, color='r', label='uf_nom',\n",
        "           angles='xy', scale_units='xy', scale=1)\n",
        "plt.quiver(0, 0, e1_nom_c.real, e1_nom_c.imag, color='r', label='e1_nom',\n",
        "           angles='xy', scale_units='xy', scale=1)\n",
        "plt.quiver(e1_nom_c.real, e1_nom_c.imag, u_rs_c.real, u_rs_c.imag, color='r', label='u_rs',\n",
        "           angles='xy', scale_units='xy', scale=1)\n",
        "# Current fasor has a different scale\n",
        "plt.quiver(0, 0, if_nom_c.real, if_nom_c.imag, color='k', label='if_nom x 2',\n",
        "           angles='xy', scale_units='xy', scale=0.5)\n",
        "plt.quiver(0, 0, im_c.real, im_c.imag, color='k', label='im x 2',\n",
        "           angles='xy', scale_units='xy', scale=0.5)\n",
        "plt.quiver(im_c.real*2, im_c.imag*2, i1_nom_c.real, i1_nom_c.imag, color='k', label='i_rot (i1) x 2',\n",
        "           angles='xy', scale_units='xy', scale=0.5)\n",
        "# Define x-scale and y-scale by defining the limits\n",
        "plt.gca().set_aspect('equal', adjustable='box')\n",
        "plt.xlim(-20, 300)\n",
        "plt.ylim(-100, 50)\n",
        "# Format figure\n",
        "plt.grid()\n",
        "plt.legend(loc = 'lower right')\n",
        "plt.savefig(\"12 \" + date + \" fasor_sc\" + \".pdf\")\n",
        "plt.show()"
      ],
      "id": "306826e5",
      "execution_count": null,
      "outputs": [
        {
          "output_type": "display_data",
          "data": {
            "image/png": "[encoded data removed]",
            "text/plain": [
              "<Figure size 432x288 with 1 Axes>"
            ]
          },
          "metadata": {
            "needs_background": "light"
          }
        }
      ]
    },
    {
      "cell_type": "markdown",
      "metadata": {
        "id": "cee9474a"
      },
      "source": [
        " Controle van verliezen en rendement voor nominale waarden\n",
        " Extra controle kan je altijd inlassen."
      ],
      "id": "cee9474a"
    },
    {
      "cell_type": "code",
      "metadata": {
        "id": "7c689610"
      },
      "source": [
        "# Impedantie van de rotor als complex-getal\n",
        "z_rot_c = x_corr * 1j + r2_nom / skip\n",
        "# Admittantie ter hoogte van e1\n",
        "ym_c = 1 / z_rot_c + 1 / rm_kp + 1 / (xm_kp*1j)\n",
        "# Totale impedantie\n",
        "ztot_c = rs + 1 / ym_c\n",
        "# Totale stroom \n",
        "il_kip_c = uf_nom / ztot_c\n",
        "# Spanning e1\n",
        "e1_kip_c = uf_nom - rs * il_kip_c\n",
        "# Spanningsval over de stator-weerstand\n",
        "u_rs_kip_c = rs * il_kip_c\n",
        "# Opsplitsing van de stromen\n",
        "im_kip_c = e1_kip_c * (1 / rm_kp + 1 / (xm_kp*1j))\n",
        "ir_kip_c = il_kip_c - im_kip_c\n",
        "# Opsplitsing van de spanningen in de rotor\n",
        "ur2_kip_c = r2_nom / skip * ir_kip_c\n",
        "ux_kip_c = x_corr * 1j * ir_kip_c"
      ],
      "id": "7c689610",
      "execution_count": null,
      "outputs": []
    },
    {
      "cell_type": "markdown",
      "metadata": {
        "id": "7660d9a7"
      },
      "source": [
        "Plot fasor-diagram at kip-conditions"
      ],
      "id": "7660d9a7"
    },
    {
      "cell_type": "code",
      "metadata": {
        "id": "a67e9f74",
        "colab": {
          "base_uri": "https://localhost:8080/",
          "height": 281
        },
        "outputId": "6004c1c4-4451-4ffc-c1ed-6a96fae4a9f5"
      },
      "source": [
        "plt.figure(14)\n",
        "plt.title('Fasor-diagram for kip conditions')\n",
        "# Define different fasors.\n",
        "plt.quiver(0, 0, uf_nom, 0, color='r', label='uf',\n",
        "           angles='xy', scale_units='xy', scale=1)\n",
        "plt.quiver(0, 0, e1_kip_c.real, e1_kip_c.imag, color='c', label='e1_kip',\n",
        "           angles='xy', scale_units='xy', scale=1)\n",
        "plt.quiver(e1_kip_c.real, e1_kip_c.imag, u_rs_kip_c.real, u_rs_kip_c.imag, color='g', label='u_rs',\n",
        "           angles='xy', scale_units='xy', scale=1)\n",
        "plt.quiver(0, 0, ur2_kip_c.real, ur2_kip_c.imag, color='k', label='u_r2_kip',\n",
        "           angles='xy', scale_units='xy', scale=1)\n",
        "plt.quiver(ur2_kip_c.real, ur2_kip_c.imag, ux_kip_c.real, ux_kip_c.imag, color='m', label='u_x_kip',\n",
        "           angles='xy', scale_units='xy', scale=1)\n",
        "\n",
        "# Current fasor has a different scale\n",
        "plt.quiver(0, 0, il_kip_c.real/4, il_kip_c.imag/4, color='k', label='if_kip',\n",
        "           angles='xy', scale_units='xy', scale=1)\n",
        "plt.quiver(0, 0, im_kip_c.real/4, im_kip_c.imag/4, color='r', label='im_kip',\n",
        "           angles='xy', scale_units='xy', scale=1)\n",
        "plt.quiver(im_kip_c.real/4, im_kip_c.imag/4, ir_kip_c.real/4, ir_kip_c.imag/4, color='c', label='i-rot_kip',\n",
        "           angles='xy', scale_units='xy', scale=1)\n",
        "\n",
        "\n",
        "# Define x-scale and y-scale by defining the limits\n",
        "plt.gca().set_aspect('equal', adjustable='box')\n",
        "plt.xlim(0, 230)\n",
        "plt.ylim(-130, 50)\n",
        "# Extra text on figure\n",
        "plt.text(x=0, y=50, s='Angles are not correct ')\n",
        "plt.text(x=0, y=40, s='due to scale of x-axis en y-axis')\n",
        "# Format figure\n",
        "plt.grid()\n",
        "plt.legend()\n",
        "plt.savefig(\"14 \" + date + \" fasor_kip\" + \".pdf\")\n",
        "plt.show()"
      ],
      "id": "a67e9f74",
      "execution_count": null,
      "outputs": [
        {
          "output_type": "display_data",
          "data": {
            "image/png": "[encoded data removed]",
            "text/plain": [
              "<Figure size 432x288 with 1 Axes>"
            ]
          },
          "metadata": {
            "needs_background": "light"
          }
        }
      ]
    },
    {
      "cell_type": "code",
      "metadata": {
        "id": "is_VyQDklBS6"
      },
      "source": [
        "# Het aantal punten voor de numpy-arrays.\n",
        "N = 100\n",
        "# Frequentie van de net-aansluiting\n",
        "freq = 50\n",
        "# Oproepen van de functie voor de berekening van de motor\n",
        "n_np50, Tmech50_np, ifabs50_np, e1abs50_np, ifQ50_np, ifP50_np = calculate_torque(freq, rs, r2_nom, x_corr, rm_kp, xm_kp)\n",
        "#\n",
        "Pmech_np = n_np50 / 9.55 * Tmech50_np\n",
        "slip_np = (n_sync - n_np50) / n_sync\n",
        "Plu_np = Pmech_np / (1 - slip_np)\n",
        "Pjr_np = Plu_np * slip_np\n",
        "if50_np = (ifP50_np**2 + ifQ50_np**2)**0.5\n",
        "Pjs_np = 3 * rs * if50_np**2\n",
        "Pfe_np = e1abs50_np**2 / rm_kp\n",
        "Ploss_np = Pjr_np + Pjs_np + Pfe_np\n",
        "\n",
        "Pel_np = Pmech_np + Ploss_np \n",
        "\n",
        "rend_np = Pmech_np / Pel_np"
      ],
      "id": "is_VyQDklBS6",
      "execution_count": null,
      "outputs": []
    },
    {
      "cell_type": "code",
      "metadata": {
        "id": "4FUyR0CglIFD",
        "colab": {
          "base_uri": "https://localhost:8080/",
          "height": 295
        },
        "outputId": "c2826b81-7b8f-4159-f566-c2f140ddf304"
      },
      "source": [
        "# Plot voor het rendement\n",
        "plt.figure(9)\n",
        "plt.plot(Pmech_np, rend_np, \"ro-\", label=\"Rendement 50Hz\")\n",
        "#plt.plot(n_np30, Tmech30_np, \"bo-\", label=\"Tmech 30Hz\")\n",
        "#plt.plot(n_np10, Tmech10_np, \"go-\", label=\"Tmech 10Hz\")\n",
        "#plt.plot(n_np80, Tmech80_np, \"co-\", label=\"Tmech 80Hz\")\n",
        "plt.title(\"Rendement\")\n",
        "plt.legend()\n",
        "plt.xlabel(\"Pmech\")\n",
        "plt.ylabel(\"Rendement\")\n",
        "# Define x-scale and y-scale by defining the limits\n",
        "# plt.gca().set_aspect('equal', adjustable='box')\n",
        "plt.xlim(0, 50000)\n",
        "plt.ylim(0.8, 1)\n",
        "plt.grid()\n",
        "plt.savefig('9 ' + date + \" Pmech-Rend\" + \".pdf\")\n",
        "plt.show()"
      ],
      "id": "4FUyR0CglIFD",
      "execution_count": null,
      "outputs": [
        {
          "output_type": "display_data",
          "data": {
            "image/png": "[encoded data removed]",
            "text/plain": [
              "<Figure size 432x288 with 1 Axes>"
            ]
          },
          "metadata": {
            "needs_background": "light"
          }
        }
      ]
    },
    {
      "cell_type": "code",
      "metadata": {
        "id": "AeRN_ILslTgb",
        "colab": {
          "base_uri": "https://localhost:8080/",
          "height": 295
        },
        "outputId": "94d328d4-d299-43fa-9698-253e3a52a0c1"
      },
      "source": [
        "plt.figure(10)\n",
        "\n",
        "# Plot van de verliezen\n",
        "# plt.plot(Pmech_np, Pel_np, \"ro-\", label=\"Pel\")\n",
        "plt.plot(Pmech_np, Pjr_np, \"bo-\", label=\"Pjr\")\n",
        "plt.plot(Pmech_np, Pjs_np, \"go-\", label=\"Pjs\")\n",
        "plt.plot(Pmech_np, Pfe_np, \"co-\", label=\"Pfe\")\n",
        "plt.title(\"Losses\")\n",
        "plt.legend()\n",
        "plt.xlabel(\"Pmech\")\n",
        "plt.ylabel(\"Losses\")\n",
        "plt.grid()\n",
        "plt.savefig('10 ' + date + \" Pmech-Losses\" + \".pdf\")\n",
        "plt.show()\n"
      ],
      "id": "AeRN_ILslTgb",
      "execution_count": null,
      "outputs": [
        {
          "output_type": "display_data",
          "data": {
            "image/png": "[encoded data removed]",
            "text/plain": [
              "<Figure size 432x288 with 1 Axes>"
            ]
          },
          "metadata": {
            "needs_background": "light"
          }
        }
      ]
    },
    {
      "cell_type": "code",
      "metadata": {
        "id": "UnKLqMrklYK4",
        "colab": {
          "base_uri": "https://localhost:8080/",
          "height": 295
        },
        "outputId": "a6ba5f0f-05c4-49a2-eabe-9b9a5515cc3a"
      },
      "source": [
        "# Plot M-n characteristic\n",
        "plt.figure(1)\n",
        "plt.plot(n_np50, Tmech50_np, \"ro-\", label=\"Mmech 50Hz\")\n",
        "plt.title(\"Mn karakteristiek\")\n",
        "plt.legend()\n",
        "plt.xlabel(\"toerental\")\n",
        "plt.ylabel(\"Koppel\")\n",
        "plt.grid()\n",
        "plt.savefig('1 ' + date + \" toerental-koppel\" + \".pdf\")\n",
        "plt.show()"
      ],
      "id": "UnKLqMrklYK4",
      "execution_count": null,
      "outputs": [
        {
          "output_type": "display_data",
          "data": {
            "image/png": "[encoded data removed]",
            "text/plain": [
              "<Figure size 432x288 with 1 Axes>"
            ]
          },
          "metadata": {
            "needs_background": "light"
          }
        }
      ]
    },
    {
      "cell_type": "code",
      "metadata": {
        "id": "ag542gCOlcfx",
        "colab": {
          "base_uri": "https://localhost:8080/",
          "height": 295
        },
        "outputId": "807a1b17-8e98-4848-a895-975843ea8abe"
      },
      "source": [
        "# Plot current - speed curves for different frequencies.\n",
        "plt.figure(2)\n",
        "plt.plot(n_np50, ifabs50_np, \"ro-\", label=\"primaire stoom 50Hz\")\n",
        "plt.title(\"uitgangskarakteristiek stroom\")\n",
        "plt.legend()\n",
        "plt.xlabel(\"toerental\")\n",
        "plt.ylabel(\"stroom\")\n",
        "plt.grid()\n",
        "plt.savefig('2 ' + date + \" toerental_stroom\" + \".pdf\")\n",
        "plt.show()"
      ],
      "id": "ag542gCOlcfx",
      "execution_count": null,
      "outputs": [
        {
          "output_type": "display_data",
          "data": {
            "image/png": "[encoded data removed]",
            "text/plain": [
              "<Figure size 432x288 with 1 Axes>"
            ]
          },
          "metadata": {
            "needs_background": "light"
          }
        }
      ]
    },
    {
      "cell_type": "code",
      "metadata": {
        "id": "2N1d2N4ylg-Q",
        "colab": {
          "base_uri": "https://localhost:8080/",
          "height": 295
        },
        "outputId": "19d5174a-0acb-4a91-d0b7-5fce199d842d"
      },
      "source": [
        "# Plot flux - speed curves for different frequencies.\n",
        "plt.figure(3)\n",
        "plt.plot(n_np50, e1abs50_np, \"ro-\", label=\"Flux 50Hz\")\n",
        "plt.title(\"Tussenspanning als maat voor flux\")\n",
        "plt.legend()\n",
        "plt.xlabel(\"Toerental\")\n",
        "plt.ylabel(\"Tussenspanning\")\n",
        "plt.grid()\n",
        "plt.savefig('3 ' + date + \" e1_toerental\" + \".pdf\")\n",
        "plt.show()"
      ],
      "id": "2N1d2N4ylg-Q",
      "execution_count": null,
      "outputs": [
        {
          "output_type": "display_data",
          "data": {
            "image/png": "[encoded data removed]",
            "text/plain": [
              "<Figure size 432x288 with 1 Axes>"
            ]
          },
          "metadata": {
            "needs_background": "light"
          }
        }
      ]
    },
    {
      "cell_type": "code",
      "metadata": {
        "id": "ff38db7d",
        "colab": {
          "base_uri": "https://localhost:8080/",
          "height": 295
        },
        "outputId": "16bd1535-f075-4834-b643-d53a215a51a0"
      },
      "source": [
        "# Plot the circle-diagram for different frequencies.\n",
        "plt.figure(4)\n",
        "plt.plot(ifQ50_np, ifP50_np, \"ro-\", label=\"Ingangsstroom 50Hz\")\n",
        "plt.title(\"cirkel-diagram\")\n",
        "plt.legend()\n",
        "plt.xlabel(\"Reactieve stroom\")\n",
        "plt.ylabel(\"Actieve stroom\")\n",
        "plt.grid()\n",
        "plt.savefig('4 ' + date + \" Cirkel-diagram\" + \".pdf\")\n",
        "plt.show()"
      ],
      "id": "ff38db7d",
      "execution_count": null,
      "outputs": [
        {
          "output_type": "display_data",
          "data": {
            "image/png": "[encoded data removed]",
            "text/plain": [
              "<Figure size 432x288 with 1 Axes>"
            ]
          },
          "metadata": {
            "needs_background": "light"
          }
        }
      ]
    },
    {
      "cell_type": "code",
      "metadata": {
        "id": "55a7eadb",
        "colab": {
          "base_uri": "https://localhost:8080/",
          "height": 123
        },
        "outputId": "c7592aef-a367-4a71-92e7-5fa292243792"
      },
      "source": [
        "\"\"\"\n",
        "freq = 30\n",
        "\n",
        "n_np30, Tmech30_np, ifabs30_np, e1abs30_np, ifQ30_np, ifP30_np = calculate_torque(freq, rs, r2_nom, x_corr, rm_nom, xm_nom)\n",
        "\n",
        "freq = 10\n",
        "\n",
        "n_np10, Tmech10_np, ifabs10_np, e1abs10_np, ifQ10_np, ifP10_np = calculate_torque(freq, rs, r2_nom, x_corr, rm_nom, xm_nom)\n",
        "\n",
        "freq = 80\n",
        "\n",
        "n_np80, Tmech80_np, ifabs80_np, e1abs80_np, ifQ80_np, ifP80_np = calculate_torque(freq, rs, r2_nom, x_corr, rm_nom, xm_nom)\n",
        "\n",
        "\"\"\"\n",
        "# Plot M-n characteristic\n",
        "\"\"\"\n",
        "plt.figure(1)\n",
        "plt.plot(n_np50, Tmech50_np, \"ro-\", label=\"Mmech 50Hz\")\n",
        "#plt.plot(n_np30, Tmech30_np, \"bo-\", label=\"Tmech 30Hz\")\n",
        "#plt.plot(n_np10, Tmech10_np, \"go-\", label=\"Tmech 10Hz\")\n",
        "#plt.plot(n_np80, Tmech80_np, \"co-\", label=\"Tmech 80Hz\")\n",
        "plt.title(\"Mn karakteristiek\")\n",
        "plt.legend()\n",
        "plt.xlabel(\"toerental\")\n",
        "plt.ylabel(\"Koppel\")\n",
        "plt.grid()\n",
        "plt.savefig('1 ' + date + \" toerental-koppel\" + \".pdf\")\n",
        "plt.show()\n",
        "\n",
        "\"\"\"\n",
        "# Plot current - speed curves for different frequencies.\n",
        "\"\"\"\n",
        "\n",
        "plt.figure(2)\n",
        "plt.plot(n_np50, ifabs50_np, \"ro-\", label=\"primaire stoom 50Hz\")\n",
        "plt.plot(n_np30, ifabs30_np, \"bo-\", label=\"primaire stoom 30Hz\")\n",
        "plt.plot(n_np10, ifabs10_np, \"go-\", label=\"primaire stoom 10Hz\")\n",
        "plt.plot(n_np80, ifabs80_np, \"co-\", label=\"primaire stoom 80Hz\")\n",
        "plt.title(\"uitgangskarakteristiek stroom\")\n",
        "plt.legend()\n",
        "plt.xlabel(\"toerental\")\n",
        "plt.ylabel(\"stroom\")\n",
        "plt.grid()\n",
        "plt.savefig('2 ' + date + \" toerental_stroom\" + \".pdf\")\n",
        "plt.show()\n",
        "\n",
        "\"\"\"\n",
        "# Plot flux - speed curves for different frequencies.\n",
        "\"\"\"\n",
        "plt.figure(3)\n",
        "plt.plot(n_np50, e1abs50_np, \"ro-\", label=\"Flux 50Hz\")\n",
        "plt.plot(n_np30, e1abs30_np, \"bo-\", label=\"Flux 30Hz\")\n",
        "plt.plot(n_np10, e1abs10_np, \"go-\", label=\"Flux 10Hz\")\n",
        "plt.plot(n_np80, e1abs80_np, \"co-\", label=\"Flux 80Hz\")\n",
        "plt.title(\"Tussenspanning als maat voor flux\")\n",
        "plt.legend()\n",
        "plt.xlabel(\"Toerental\")\n",
        "plt.ylabel(\"Tussenspanning\")\n",
        "plt.grid()\n",
        "plt.savefig('3 ' + date + \" e1_toerental\" + \".pdf\")\n",
        "plt.show()\n",
        "\n",
        "\"\"\"\n",
        "# Plot the circle-diagram for different frequencies.\n",
        "\"\"\"\n",
        "plt.figure(4)\n",
        "plt.plot(ifQ50_np, ifP50_np, \"ro-\", label=\"Ingangsstroom 50Hz\")\n",
        "plt.plot(ifQ30_np, ifP30_np, \"bo-\", label=\"Ingangsstroom 30Hz\")\n",
        "plt.plot(ifQ10_np, ifP10_np, \"go-\", label=\"Ingangsstroom 10Hz\")\n",
        "plt.plot(ifQ80_np, ifP80_np, \"co-\", label=\"Ingangsstroom 80Hz\")\n",
        "plt.title(\"cirkel-diagram\")\n",
        "plt.legend()\n",
        "plt.xlabel(\"Reactieve stroom\")\n",
        "plt.ylabel(\"Actieve stroom\")\n",
        "plt.grid()\n",
        "plt.savefig('4 ' + date + \" Cirkel-diagram\" + \".pdf\")\n",
        "plt.show()\n",
        "\n",
        "\"\"\"\n",
        "# 5.2 Plot the torque - speed curves for different values of rotor-resistance.\n",
        "# ---------------------------------------------------------------------------\n",
        "\"\"\"\n",
        "freq = 50\n",
        "# Invloed van de weerstand r2_nom\n",
        "r2_int = r2_nom\n",
        "\"\"\"\n",
        "# Plot M-n characteristic\n",
        "\"\"\"\n",
        "plt.figure(5)\n",
        "plt.plot(n_np50, Tmech50_np, \"ro-\", label=\"R-rotor\")\n",
        "\n",
        "r2_tst = r2_int * 2\n",
        "n2_np50, T2_mech50_np, if2_abs50_np, e12_abs50_np, if2_Q50_np, if2_P50_np = \\\n",
        "    calculate_torque(freq, rs, r2_tst, x_corr, rm_nom, xm_nom)\n",
        "\n",
        "r2_tst = r2_int * 4\n",
        "n3_np50, T3_mech50_np, if3_abs50_np, e13_abs50_np, if3_Q50_np, if3_P50_np = \\\n",
        "    calculate_torque(freq, rs, r2_tst, x_corr, rm_nom, xm_nom)\n",
        "\n",
        "r2_tst = x_corr\n",
        "n4_np50, T4_mech50_np, if4_abs50_np, e14_abs50_np, if4_Q50_np, if4_P50_np = \\\n",
        "    calculate_torque(freq, rs, r2_tst, x_corr, rm_nom, xm_nom)\n",
        "\n",
        "plt.plot(n_np50, Tmech50_np, \"ro-\", label=\"R-r\")\n",
        "plt.plot(n2_np50, T2_mech50_np, \"bo-\", label=\"2 * R-r\")\n",
        "plt.plot(n3_np50, T3_mech50_np, \"go-\", label=\"4 * R-r\")\n",
        "plt.plot(n4_np50, T4_mech50_np, \"co-\", label=\"R-r = x\")\n",
        "plt.title(\"invloed van rotor-weerstand op het koppel\")\n",
        "plt.legend()\n",
        "plt.xlabel(\"Toerental\")\n",
        "plt.ylabel(\"Koppel\")\n",
        "plt.grid()\n",
        "plt.savefig('5 ' + date + \" invloed van rotor-weerstand op het koppel\" + \".pdf\")\n",
        "plt.show()\n",
        "\n",
        "\"\"\"\n",
        "# Plot the current - speed curves for different values of rotor-resistance.\n",
        "\"\"\"\n",
        "plt.figure(6)\n",
        "plt.plot(n_np50, ifabs50_np, \"ro-\", label=\"R-r\")\n",
        "plt.plot(n2_np50, if2_abs50_np, \"bo-\", label=\"2 * R-r\")\n",
        "plt.plot(n3_np50, if3_abs50_np, \"go-\", label=\"4 * R-r\")\n",
        "plt.plot(n4_np50, if4_abs50_np, \"co-\", label=\"R-r = x\")\n",
        "plt.title(\"invloed van rotor-weerstand op de statorstroom\")\n",
        "plt.legend()\n",
        "plt.xlabel(\"toerental\")\n",
        "plt.ylabel(\"stroom\")\n",
        "plt.grid()\n",
        "plt.savefig('6 ' + date + \" invloed van rotor-weerstand op de statorstroom\" + \".pdf\")\n",
        "plt.show()\n",
        "\n",
        "\"\"\"\n",
        "# Plot the flux - speed curves for different values of rotor-resistance.\n",
        "\"\"\"\n",
        "plt.figure(7)\n",
        "plt.plot(n_np50, e1abs50_np, \"ro-\", label=\"R-r\")\n",
        "plt.plot(n2_np50, e12_abs50_np, \"bo-\", label=\"2 * R-r\")\n",
        "plt.plot(n3_np50, e13_abs50_np, \"go-\", label=\"4 * R-r\")\n",
        "plt.plot(n3_np50, e14_abs50_np, \"co-\", label=\"R-r = x\")\n",
        "plt.title(\"invloed van rotor-weerstand op e1\")\n",
        "plt.legend()\n",
        "plt.xlabel(\"Toerental\")\n",
        "plt.ylabel(\"Tussenspanning\")\n",
        "plt.grid()\n",
        "plt.savefig('7 ' + date + \" invloed van rotor-weerstand op e1\" + \".pdf\")\n",
        "plt.show()\n",
        "\n",
        "\"\"\"\n",
        "# Plot the circle-diagrams for different values of rotor-resistance.\n",
        "\"\"\"\n",
        "plt.figure(8)\n",
        "plt.plot(ifQ50_np, ifP50_np, \"ro-\", label=\"R-r\")\n",
        "plt.plot(if2_Q50_np, if2_P50_np, \"bo-\", label=\"2 * R-r\")\n",
        "plt.plot(if3_Q50_np, if3_P50_np, \"go-\", label=\"4 * R-r\")\n",
        "plt.plot(if4_Q50_np, if4_P50_np, \"co-\", label=\"R-r = x\")\n",
        "plt.title(\"invloed van rotor-weerstand op cirkeldiagram\")\n",
        "plt.legend()\n",
        "plt.xlabel(\"Reactieve stroom\")\n",
        "plt.ylabel(\"Actieve stroom\")\n",
        "plt.grid()\n",
        "plt.savefig('8 ' + date + \" invloed van rotor-weerstand op cirkeldiagram\" + \".pdf\")\n",
        "plt.show()\n",
        "\"\"\""
      ],
      "id": "55a7eadb",
      "execution_count": null,
      "outputs": [
        {
          "output_type": "execute_result",
          "data": {
            "application/vnd.google.colaboratory.intrinsic+json": {
              "type": "string"
            },
            "text/plain": [
              "'\\nplt.figure(8)\\nplt.plot(ifQ50_np, ifP50_np, \"ro-\", label=\"R-r\")\\nplt.plot(if2_Q50_np, if2_P50_np, \"bo-\", label=\"2 * R-r\")\\nplt.plot(if3_Q50_np, if3_P50_np, \"go-\", label=\"4 * R-r\")\\nplt.plot(if4_Q50_np, if4_P50_np, \"co-\", label=\"R-r = x\")\\nplt.title(\"invloed van rotor-weerstand op cirkeldiagram\")\\nplt.legend()\\nplt.xlabel(\"Reactieve stroom\")\\nplt.ylabel(\"Actieve stroom\")\\nplt.grid()\\nplt.savefig(\\'8 \\' + date + \" invloed van rotor-weerstand op cirkeldiagram\" + \".pdf\")\\nplt.show()\\n'"
            ]
          },
          "metadata": {},
          "execution_count": 37
        }
      ]
    },
    {
      "cell_type": "markdown",
      "metadata": {
        "id": "3ca44a12"
      },
      "source": [
        "# 4. Maak een text-file met de resultaten."
      ],
      "id": "3ca44a12"
    },
    {
      "cell_type": "code",
      "metadata": {
        "id": "8cc67a8c"
      },
      "source": [
        "text_file = date + ' Summary ' + '.txt'\n",
        "original_stdout = sys.stdout  # Save a reference to the original standard output\n",
        "with open(text_file, 'w') as f:\n",
        "    sys.stdout = f\n",
        "    print('Stator resistor')\n",
        "    print('-----------------------------')\n",
        "    print(\"rs =\", round(rs, 2), \"ohm\")\n",
        "    print()\n",
        "    print('Equivalent schematic based on nameplate')\n",
        "    print('---------------------------------------')\n",
        "    print(\"r2 of nameplate= \", round(r2_nom, 3), \" Ohm\")\n",
        "    print(\"x_corr of nameplate= \", round(x_corr, 3), \" Ohm\")\n",
        "    print(\"rm based on nameplate\", round(rm_kp, 3), \" Ohm\")\n",
        "    print(\"xm based on nameplate\", round(xm_kp, 3), \" Ohm\")\n",
        "    print('-------------------------------')\n",
        "    print('Figure 1: M-n characteristic for different frequencies')\n",
        "    print('Figure 2: Stator current for different frequencies')\n",
        "    print('Figure 3: Voltage e1 for different frequencies')\n",
        "    print('Figure 4: Circle diagram for different frequencies')\n",
        "    print('Figure 5: M-n characteristic for different values of R2')\n",
        "    print('Figure 6: Stator current for different values of R2')\n",
        "    print('Figure 7: Voltage e1 for different values of R2')\n",
        "    print('Figure 8: Circle diagram for different values of R2')\n",
        "    print('Figure 11: Fasor-diagram for zero-load condition')\n",
        "    print('Figure 12: Fasor-diagram for short-circuit condition')\n",
        "    print('Figure 13: Fasor-diagram for nominal condition')\n",
        "    print('Figure 14: Fasor-diagram for kip condition')\n",
        "\n",
        "    sys.stdout = original_stdout  # Reset the standard output to its original value"
      ],
      "id": "8cc67a8c",
      "execution_count": null,
      "outputs": []
    },
    {
      "cell_type": "markdown",
      "metadata": {
        "id": "eJzWMWRU0Sth"
      },
      "source": [
        "# 5. Besluit:\n",
        "Geef in maximaal 40 zinnen een besluit voor dit project."
      ],
      "id": "eJzWMWRU0Sth"
    }
  ]
}